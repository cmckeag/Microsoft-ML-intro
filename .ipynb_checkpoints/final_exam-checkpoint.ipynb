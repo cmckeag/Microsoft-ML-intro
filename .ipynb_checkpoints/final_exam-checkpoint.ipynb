{
 "cells": [
  {
   "cell_type": "markdown",
   "metadata": {},
   "source": [
    "## Data Exploration"
   ]
  },
  {
   "cell_type": "markdown",
   "metadata": {},
   "source": [
    "The first part of the exam is some data exploration. We'll start by importing the datasets."
   ]
  },
  {
   "cell_type": "code",
   "execution_count": 1,
   "metadata": {},
   "outputs": [],
   "source": [
    "import pandas as pd\n",
    "import numpy as np\n",
    "import matplotlib.pyplot as plt\n",
    "import seaborn as sns\n",
    "%matplotlib inline"
   ]
  },
  {
   "cell_type": "code",
   "execution_count": 2,
   "metadata": {},
   "outputs": [],
   "source": [
    "custdat = pd.read_csv('dat/AdvWorksCusts.csv')\n",
    "spenddat = pd.read_csv('dat/AW_AveMonthSpend.csv')\n",
    "buydat = pd.read_csv('dat/AW_BikeBuyer.csv')"
   ]
  },
  {
   "cell_type": "markdown",
   "metadata": {},
   "source": [
    "The first thing we're asked to look at is some summary statistics for the Average Monthly Spending values."
   ]
  },
  {
   "cell_type": "code",
   "execution_count": 8,
   "metadata": {},
   "outputs": [
    {
     "data": {
      "text/html": [
       "<div>\n",
       "<style scoped>\n",
       "    .dataframe tbody tr th:only-of-type {\n",
       "        vertical-align: middle;\n",
       "    }\n",
       "\n",
       "    .dataframe tbody tr th {\n",
       "        vertical-align: top;\n",
       "    }\n",
       "\n",
       "    .dataframe thead th {\n",
       "        text-align: right;\n",
       "    }\n",
       "</style>\n",
       "<table border=\"1\" class=\"dataframe\">\n",
       "  <thead>\n",
       "    <tr style=\"text-align: right;\">\n",
       "      <th></th>\n",
       "      <th>CustomerID</th>\n",
       "      <th>AveMonthSpend</th>\n",
       "    </tr>\n",
       "  </thead>\n",
       "  <tbody>\n",
       "    <tr>\n",
       "      <th>0</th>\n",
       "      <td>11000</td>\n",
       "      <td>89</td>\n",
       "    </tr>\n",
       "    <tr>\n",
       "      <th>1</th>\n",
       "      <td>11001</td>\n",
       "      <td>117</td>\n",
       "    </tr>\n",
       "    <tr>\n",
       "      <th>2</th>\n",
       "      <td>11002</td>\n",
       "      <td>123</td>\n",
       "    </tr>\n",
       "    <tr>\n",
       "      <th>3</th>\n",
       "      <td>11003</td>\n",
       "      <td>50</td>\n",
       "    </tr>\n",
       "    <tr>\n",
       "      <th>4</th>\n",
       "      <td>11004</td>\n",
       "      <td>95</td>\n",
       "    </tr>\n",
       "  </tbody>\n",
       "</table>\n",
       "</div>"
      ],
      "text/plain": [
       "   CustomerID  AveMonthSpend\n",
       "0       11000             89\n",
       "1       11001            117\n",
       "2       11002            123\n",
       "3       11003             50\n",
       "4       11004             95"
      ]
     },
     "execution_count": 8,
     "metadata": {},
     "output_type": "execute_result"
    }
   ],
   "source": [
    "spenddat.head()"
   ]
  },
  {
   "cell_type": "code",
   "execution_count": 31,
   "metadata": {},
   "outputs": [
    {
     "data": {
      "text/plain": [
       "CustomerID       0\n",
       "AveMonthSpend    0\n",
       "dtype: int64"
      ]
     },
     "execution_count": 31,
     "metadata": {},
     "output_type": "execute_result"
    }
   ],
   "source": [
    "spenddat.isna().sum()"
   ]
  },
  {
   "cell_type": "code",
   "execution_count": 32,
   "metadata": {},
   "outputs": [],
   "source": [
    "spenddat.drop_duplicates(subset = 'CustomerID', keep = 'last', inplace=True)"
   ]
  },
  {
   "cell_type": "markdown",
   "metadata": {},
   "source": [
    "No missing values, and we've dropped duplicate Customer ID's if any, so we can go ahead and look at the aggregate statistics."
   ]
  },
  {
   "cell_type": "code",
   "execution_count": 33,
   "metadata": {},
   "outputs": [
    {
     "data": {
      "text/plain": [
       "count    16404.000000\n",
       "mean        72.391002\n",
       "std         27.269921\n",
       "min         22.000000\n",
       "25%         52.000000\n",
       "50%         68.000000\n",
       "75%         84.000000\n",
       "max        176.000000\n",
       "Name: AveMonthSpend, dtype: float64"
      ]
     },
     "execution_count": 33,
     "metadata": {},
     "output_type": "execute_result"
    }
   ],
   "source": [
    "spenddat['AveMonthSpend'].describe()"
   ]
  },
  {
   "cell_type": "markdown",
   "metadata": {},
   "source": [
    "Next we'll look at the Bike Buyer table, which is simply a list of boolean classes."
   ]
  },
  {
   "cell_type": "code",
   "execution_count": 11,
   "metadata": {},
   "outputs": [
    {
     "data": {
      "text/html": [
       "<div>\n",
       "<style scoped>\n",
       "    .dataframe tbody tr th:only-of-type {\n",
       "        vertical-align: middle;\n",
       "    }\n",
       "\n",
       "    .dataframe tbody tr th {\n",
       "        vertical-align: top;\n",
       "    }\n",
       "\n",
       "    .dataframe thead th {\n",
       "        text-align: right;\n",
       "    }\n",
       "</style>\n",
       "<table border=\"1\" class=\"dataframe\">\n",
       "  <thead>\n",
       "    <tr style=\"text-align: right;\">\n",
       "      <th></th>\n",
       "      <th>CustomerID</th>\n",
       "      <th>BikeBuyer</th>\n",
       "    </tr>\n",
       "  </thead>\n",
       "  <tbody>\n",
       "    <tr>\n",
       "      <th>0</th>\n",
       "      <td>11000</td>\n",
       "      <td>0</td>\n",
       "    </tr>\n",
       "    <tr>\n",
       "      <th>1</th>\n",
       "      <td>11001</td>\n",
       "      <td>1</td>\n",
       "    </tr>\n",
       "    <tr>\n",
       "      <th>2</th>\n",
       "      <td>11002</td>\n",
       "      <td>0</td>\n",
       "    </tr>\n",
       "    <tr>\n",
       "      <th>3</th>\n",
       "      <td>11003</td>\n",
       "      <td>0</td>\n",
       "    </tr>\n",
       "    <tr>\n",
       "      <th>4</th>\n",
       "      <td>11004</td>\n",
       "      <td>1</td>\n",
       "    </tr>\n",
       "  </tbody>\n",
       "</table>\n",
       "</div>"
      ],
      "text/plain": [
       "   CustomerID  BikeBuyer\n",
       "0       11000          0\n",
       "1       11001          1\n",
       "2       11002          0\n",
       "3       11003          0\n",
       "4       11004          1"
      ]
     },
     "execution_count": 11,
     "metadata": {},
     "output_type": "execute_result"
    }
   ],
   "source": [
    "buydat.head()"
   ]
  },
  {
   "cell_type": "code",
   "execution_count": 34,
   "metadata": {},
   "outputs": [],
   "source": [
    "buydat.isna().sum()\n",
    "# No missing values\n",
    "buydat.drop_duplicates(subset = 'CustomerID', keep = 'last', inplace=True)\n",
    "# Duplicates have been dropped"
   ]
  },
  {
   "cell_type": "code",
   "execution_count": 35,
   "metadata": {},
   "outputs": [
    {
     "data": {
      "text/html": [
       "<div>\n",
       "<style scoped>\n",
       "    .dataframe tbody tr th:only-of-type {\n",
       "        vertical-align: middle;\n",
       "    }\n",
       "\n",
       "    .dataframe tbody tr th {\n",
       "        vertical-align: top;\n",
       "    }\n",
       "\n",
       "    .dataframe thead th {\n",
       "        text-align: right;\n",
       "    }\n",
       "</style>\n",
       "<table border=\"1\" class=\"dataframe\">\n",
       "  <thead>\n",
       "    <tr style=\"text-align: right;\">\n",
       "      <th></th>\n",
       "      <th>CustomerID</th>\n",
       "    </tr>\n",
       "    <tr>\n",
       "      <th>BikeBuyer</th>\n",
       "      <th></th>\n",
       "    </tr>\n",
       "  </thead>\n",
       "  <tbody>\n",
       "    <tr>\n",
       "      <th>0</th>\n",
       "      <td>10949</td>\n",
       "    </tr>\n",
       "    <tr>\n",
       "      <th>1</th>\n",
       "      <td>5455</td>\n",
       "    </tr>\n",
       "  </tbody>\n",
       "</table>\n",
       "</div>"
      ],
      "text/plain": [
       "           CustomerID\n",
       "BikeBuyer            \n",
       "0               10949\n",
       "1                5455"
      ]
     },
     "execution_count": 35,
     "metadata": {},
     "output_type": "execute_result"
    }
   ],
   "source": [
    "buydat.groupby(['BikeBuyer']).count()"
   ]
  },
  {
   "cell_type": "markdown",
   "metadata": {},
   "source": [
    "This is pretty much the only useful aggregate measurement we can come up with for this data. About 2/3 of customers have not bought a bike."
   ]
  },
  {
   "cell_type": "markdown",
   "metadata": {},
   "source": [
    "Lastly we'll look at some statistics for the customer data table."
   ]
  },
  {
   "cell_type": "code",
   "execution_count": 15,
   "metadata": {},
   "outputs": [
    {
     "data": {
      "text/html": [
       "<div>\n",
       "<style scoped>\n",
       "    .dataframe tbody tr th:only-of-type {\n",
       "        vertical-align: middle;\n",
       "    }\n",
       "\n",
       "    .dataframe tbody tr th {\n",
       "        vertical-align: top;\n",
       "    }\n",
       "\n",
       "    .dataframe thead th {\n",
       "        text-align: right;\n",
       "    }\n",
       "</style>\n",
       "<table border=\"1\" class=\"dataframe\">\n",
       "  <thead>\n",
       "    <tr style=\"text-align: right;\">\n",
       "      <th></th>\n",
       "      <th>CustomerID</th>\n",
       "      <th>Title</th>\n",
       "      <th>FirstName</th>\n",
       "      <th>MiddleName</th>\n",
       "      <th>LastName</th>\n",
       "      <th>Suffix</th>\n",
       "      <th>AddressLine1</th>\n",
       "      <th>AddressLine2</th>\n",
       "      <th>City</th>\n",
       "      <th>StateProvinceName</th>\n",
       "      <th>...</th>\n",
       "      <th>BirthDate</th>\n",
       "      <th>Education</th>\n",
       "      <th>Occupation</th>\n",
       "      <th>Gender</th>\n",
       "      <th>MaritalStatus</th>\n",
       "      <th>HomeOwnerFlag</th>\n",
       "      <th>NumberCarsOwned</th>\n",
       "      <th>NumberChildrenAtHome</th>\n",
       "      <th>TotalChildren</th>\n",
       "      <th>YearlyIncome</th>\n",
       "    </tr>\n",
       "  </thead>\n",
       "  <tbody>\n",
       "    <tr>\n",
       "      <th>0</th>\n",
       "      <td>11000</td>\n",
       "      <td>NaN</td>\n",
       "      <td>Jon</td>\n",
       "      <td>V</td>\n",
       "      <td>Yang</td>\n",
       "      <td>NaN</td>\n",
       "      <td>3761 N. 14th St</td>\n",
       "      <td>NaN</td>\n",
       "      <td>Rockhampton</td>\n",
       "      <td>Queensland</td>\n",
       "      <td>...</td>\n",
       "      <td>1966-04-08</td>\n",
       "      <td>Bachelors</td>\n",
       "      <td>Professional</td>\n",
       "      <td>M</td>\n",
       "      <td>M</td>\n",
       "      <td>1</td>\n",
       "      <td>0</td>\n",
       "      <td>0</td>\n",
       "      <td>2</td>\n",
       "      <td>137947</td>\n",
       "    </tr>\n",
       "    <tr>\n",
       "      <th>1</th>\n",
       "      <td>11001</td>\n",
       "      <td>NaN</td>\n",
       "      <td>Eugene</td>\n",
       "      <td>L</td>\n",
       "      <td>Huang</td>\n",
       "      <td>NaN</td>\n",
       "      <td>2243 W St.</td>\n",
       "      <td>NaN</td>\n",
       "      <td>Seaford</td>\n",
       "      <td>Victoria</td>\n",
       "      <td>...</td>\n",
       "      <td>1965-05-14</td>\n",
       "      <td>Bachelors</td>\n",
       "      <td>Professional</td>\n",
       "      <td>M</td>\n",
       "      <td>S</td>\n",
       "      <td>0</td>\n",
       "      <td>1</td>\n",
       "      <td>3</td>\n",
       "      <td>3</td>\n",
       "      <td>101141</td>\n",
       "    </tr>\n",
       "    <tr>\n",
       "      <th>2</th>\n",
       "      <td>11002</td>\n",
       "      <td>NaN</td>\n",
       "      <td>Ruben</td>\n",
       "      <td>NaN</td>\n",
       "      <td>Torres</td>\n",
       "      <td>NaN</td>\n",
       "      <td>5844 Linden Land</td>\n",
       "      <td>NaN</td>\n",
       "      <td>Hobart</td>\n",
       "      <td>Tasmania</td>\n",
       "      <td>...</td>\n",
       "      <td>1965-08-12</td>\n",
       "      <td>Bachelors</td>\n",
       "      <td>Professional</td>\n",
       "      <td>M</td>\n",
       "      <td>M</td>\n",
       "      <td>1</td>\n",
       "      <td>1</td>\n",
       "      <td>3</td>\n",
       "      <td>3</td>\n",
       "      <td>91945</td>\n",
       "    </tr>\n",
       "    <tr>\n",
       "      <th>3</th>\n",
       "      <td>11003</td>\n",
       "      <td>NaN</td>\n",
       "      <td>Christy</td>\n",
       "      <td>NaN</td>\n",
       "      <td>Zhu</td>\n",
       "      <td>NaN</td>\n",
       "      <td>1825 Village Pl.</td>\n",
       "      <td>NaN</td>\n",
       "      <td>North Ryde</td>\n",
       "      <td>New South Wales</td>\n",
       "      <td>...</td>\n",
       "      <td>1968-02-15</td>\n",
       "      <td>Bachelors</td>\n",
       "      <td>Professional</td>\n",
       "      <td>F</td>\n",
       "      <td>S</td>\n",
       "      <td>0</td>\n",
       "      <td>1</td>\n",
       "      <td>0</td>\n",
       "      <td>0</td>\n",
       "      <td>86688</td>\n",
       "    </tr>\n",
       "    <tr>\n",
       "      <th>4</th>\n",
       "      <td>11004</td>\n",
       "      <td>NaN</td>\n",
       "      <td>Elizabeth</td>\n",
       "      <td>NaN</td>\n",
       "      <td>Johnson</td>\n",
       "      <td>NaN</td>\n",
       "      <td>7553 Harness Circle</td>\n",
       "      <td>NaN</td>\n",
       "      <td>Wollongong</td>\n",
       "      <td>New South Wales</td>\n",
       "      <td>...</td>\n",
       "      <td>1968-08-08</td>\n",
       "      <td>Bachelors</td>\n",
       "      <td>Professional</td>\n",
       "      <td>F</td>\n",
       "      <td>S</td>\n",
       "      <td>1</td>\n",
       "      <td>4</td>\n",
       "      <td>5</td>\n",
       "      <td>5</td>\n",
       "      <td>92771</td>\n",
       "    </tr>\n",
       "  </tbody>\n",
       "</table>\n",
       "<p>5 rows × 23 columns</p>\n",
       "</div>"
      ],
      "text/plain": [
       "   CustomerID Title  FirstName MiddleName LastName Suffix  \\\n",
       "0       11000   NaN        Jon          V     Yang    NaN   \n",
       "1       11001   NaN     Eugene          L    Huang    NaN   \n",
       "2       11002   NaN      Ruben        NaN   Torres    NaN   \n",
       "3       11003   NaN    Christy        NaN      Zhu    NaN   \n",
       "4       11004   NaN  Elizabeth        NaN  Johnson    NaN   \n",
       "\n",
       "          AddressLine1 AddressLine2         City StateProvinceName  \\\n",
       "0      3761 N. 14th St          NaN  Rockhampton        Queensland   \n",
       "1           2243 W St.          NaN      Seaford          Victoria   \n",
       "2     5844 Linden Land          NaN       Hobart          Tasmania   \n",
       "3     1825 Village Pl.          NaN   North Ryde   New South Wales   \n",
       "4  7553 Harness Circle          NaN   Wollongong   New South Wales   \n",
       "\n",
       "       ...        BirthDate   Education    Occupation Gender MaritalStatus  \\\n",
       "0      ...       1966-04-08  Bachelors   Professional      M             M   \n",
       "1      ...       1965-05-14  Bachelors   Professional      M             S   \n",
       "2      ...       1965-08-12  Bachelors   Professional      M             M   \n",
       "3      ...       1968-02-15  Bachelors   Professional      F             S   \n",
       "4      ...       1968-08-08  Bachelors   Professional      F             S   \n",
       "\n",
       "  HomeOwnerFlag NumberCarsOwned NumberChildrenAtHome  TotalChildren  \\\n",
       "0             1               0                    0              2   \n",
       "1             0               1                    3              3   \n",
       "2             1               1                    3              3   \n",
       "3             0               1                    0              0   \n",
       "4             1               4                    5              5   \n",
       "\n",
       "   YearlyIncome  \n",
       "0        137947  \n",
       "1        101141  \n",
       "2         91945  \n",
       "3         86688  \n",
       "4         92771  \n",
       "\n",
       "[5 rows x 23 columns]"
      ]
     },
     "execution_count": 15,
     "metadata": {},
     "output_type": "execute_result"
    }
   ],
   "source": [
    "custdat.head()"
   ]
  },
  {
   "cell_type": "markdown",
   "metadata": {},
   "source": [
    "This one will be trickier than the last two. The prompt indicates that this table will contain missing values, as well as duplicate customer ID's. Let's first look at missing values:"
   ]
  },
  {
   "cell_type": "code",
   "execution_count": 16,
   "metadata": {},
   "outputs": [
    {
     "data": {
      "text/plain": [
       "CustomerID                  0\n",
       "Title                   16431\n",
       "FirstName                   0\n",
       "MiddleName               6985\n",
       "LastName                    0\n",
       "Suffix                  16517\n",
       "AddressLine1                0\n",
       "AddressLine2            16243\n",
       "City                        0\n",
       "StateProvinceName           0\n",
       "CountryRegionName           0\n",
       "PostalCode                  0\n",
       "PhoneNumber                 0\n",
       "BirthDate                   0\n",
       "Education                   0\n",
       "Occupation                  0\n",
       "Gender                      0\n",
       "MaritalStatus               0\n",
       "HomeOwnerFlag               0\n",
       "NumberCarsOwned             0\n",
       "NumberChildrenAtHome        0\n",
       "TotalChildren               0\n",
       "YearlyIncome                0\n",
       "dtype: int64"
      ]
     },
     "execution_count": 16,
     "metadata": {},
     "output_type": "execute_result"
    }
   ],
   "source": [
    "custdat.isna().sum()"
   ]
  },
  {
   "cell_type": "markdown",
   "metadata": {},
   "source": [
    "So there are only missing values in the Title, Middle Name, Suffix, and Address Line 2. It's unlikely that we're going to be using these columns as features in our model, so we might as well drop the columns."
   ]
  },
  {
   "cell_type": "code",
   "execution_count": 17,
   "metadata": {},
   "outputs": [
    {
     "data": {
      "text/html": [
       "<div>\n",
       "<style scoped>\n",
       "    .dataframe tbody tr th:only-of-type {\n",
       "        vertical-align: middle;\n",
       "    }\n",
       "\n",
       "    .dataframe tbody tr th {\n",
       "        vertical-align: top;\n",
       "    }\n",
       "\n",
       "    .dataframe thead th {\n",
       "        text-align: right;\n",
       "    }\n",
       "</style>\n",
       "<table border=\"1\" class=\"dataframe\">\n",
       "  <thead>\n",
       "    <tr style=\"text-align: right;\">\n",
       "      <th></th>\n",
       "      <th>CustomerID</th>\n",
       "      <th>FirstName</th>\n",
       "      <th>LastName</th>\n",
       "      <th>AddressLine1</th>\n",
       "      <th>City</th>\n",
       "      <th>StateProvinceName</th>\n",
       "      <th>CountryRegionName</th>\n",
       "      <th>PostalCode</th>\n",
       "      <th>PhoneNumber</th>\n",
       "      <th>BirthDate</th>\n",
       "      <th>Education</th>\n",
       "      <th>Occupation</th>\n",
       "      <th>Gender</th>\n",
       "      <th>MaritalStatus</th>\n",
       "      <th>HomeOwnerFlag</th>\n",
       "      <th>NumberCarsOwned</th>\n",
       "      <th>NumberChildrenAtHome</th>\n",
       "      <th>TotalChildren</th>\n",
       "      <th>YearlyIncome</th>\n",
       "    </tr>\n",
       "  </thead>\n",
       "  <tbody>\n",
       "    <tr>\n",
       "      <th>0</th>\n",
       "      <td>11000</td>\n",
       "      <td>Jon</td>\n",
       "      <td>Yang</td>\n",
       "      <td>3761 N. 14th St</td>\n",
       "      <td>Rockhampton</td>\n",
       "      <td>Queensland</td>\n",
       "      <td>Australia</td>\n",
       "      <td>4700</td>\n",
       "      <td>1 (11) 500 555-0162</td>\n",
       "      <td>1966-04-08</td>\n",
       "      <td>Bachelors</td>\n",
       "      <td>Professional</td>\n",
       "      <td>M</td>\n",
       "      <td>M</td>\n",
       "      <td>1</td>\n",
       "      <td>0</td>\n",
       "      <td>0</td>\n",
       "      <td>2</td>\n",
       "      <td>137947</td>\n",
       "    </tr>\n",
       "    <tr>\n",
       "      <th>1</th>\n",
       "      <td>11001</td>\n",
       "      <td>Eugene</td>\n",
       "      <td>Huang</td>\n",
       "      <td>2243 W St.</td>\n",
       "      <td>Seaford</td>\n",
       "      <td>Victoria</td>\n",
       "      <td>Australia</td>\n",
       "      <td>3198</td>\n",
       "      <td>1 (11) 500 555-0110</td>\n",
       "      <td>1965-05-14</td>\n",
       "      <td>Bachelors</td>\n",
       "      <td>Professional</td>\n",
       "      <td>M</td>\n",
       "      <td>S</td>\n",
       "      <td>0</td>\n",
       "      <td>1</td>\n",
       "      <td>3</td>\n",
       "      <td>3</td>\n",
       "      <td>101141</td>\n",
       "    </tr>\n",
       "    <tr>\n",
       "      <th>2</th>\n",
       "      <td>11002</td>\n",
       "      <td>Ruben</td>\n",
       "      <td>Torres</td>\n",
       "      <td>5844 Linden Land</td>\n",
       "      <td>Hobart</td>\n",
       "      <td>Tasmania</td>\n",
       "      <td>Australia</td>\n",
       "      <td>7001</td>\n",
       "      <td>1 (11) 500 555-0184</td>\n",
       "      <td>1965-08-12</td>\n",
       "      <td>Bachelors</td>\n",
       "      <td>Professional</td>\n",
       "      <td>M</td>\n",
       "      <td>M</td>\n",
       "      <td>1</td>\n",
       "      <td>1</td>\n",
       "      <td>3</td>\n",
       "      <td>3</td>\n",
       "      <td>91945</td>\n",
       "    </tr>\n",
       "    <tr>\n",
       "      <th>3</th>\n",
       "      <td>11003</td>\n",
       "      <td>Christy</td>\n",
       "      <td>Zhu</td>\n",
       "      <td>1825 Village Pl.</td>\n",
       "      <td>North Ryde</td>\n",
       "      <td>New South Wales</td>\n",
       "      <td>Australia</td>\n",
       "      <td>2113</td>\n",
       "      <td>1 (11) 500 555-0162</td>\n",
       "      <td>1968-02-15</td>\n",
       "      <td>Bachelors</td>\n",
       "      <td>Professional</td>\n",
       "      <td>F</td>\n",
       "      <td>S</td>\n",
       "      <td>0</td>\n",
       "      <td>1</td>\n",
       "      <td>0</td>\n",
       "      <td>0</td>\n",
       "      <td>86688</td>\n",
       "    </tr>\n",
       "    <tr>\n",
       "      <th>4</th>\n",
       "      <td>11004</td>\n",
       "      <td>Elizabeth</td>\n",
       "      <td>Johnson</td>\n",
       "      <td>7553 Harness Circle</td>\n",
       "      <td>Wollongong</td>\n",
       "      <td>New South Wales</td>\n",
       "      <td>Australia</td>\n",
       "      <td>2500</td>\n",
       "      <td>1 (11) 500 555-0131</td>\n",
       "      <td>1968-08-08</td>\n",
       "      <td>Bachelors</td>\n",
       "      <td>Professional</td>\n",
       "      <td>F</td>\n",
       "      <td>S</td>\n",
       "      <td>1</td>\n",
       "      <td>4</td>\n",
       "      <td>5</td>\n",
       "      <td>5</td>\n",
       "      <td>92771</td>\n",
       "    </tr>\n",
       "  </tbody>\n",
       "</table>\n",
       "</div>"
      ],
      "text/plain": [
       "   CustomerID  FirstName LastName         AddressLine1         City  \\\n",
       "0       11000        Jon     Yang      3761 N. 14th St  Rockhampton   \n",
       "1       11001     Eugene    Huang           2243 W St.      Seaford   \n",
       "2       11002      Ruben   Torres     5844 Linden Land       Hobart   \n",
       "3       11003    Christy      Zhu     1825 Village Pl.   North Ryde   \n",
       "4       11004  Elizabeth  Johnson  7553 Harness Circle   Wollongong   \n",
       "\n",
       "  StateProvinceName CountryRegionName PostalCode          PhoneNumber  \\\n",
       "0        Queensland         Australia       4700  1 (11) 500 555-0162   \n",
       "1          Victoria         Australia       3198  1 (11) 500 555-0110   \n",
       "2          Tasmania         Australia       7001  1 (11) 500 555-0184   \n",
       "3   New South Wales         Australia       2113  1 (11) 500 555-0162   \n",
       "4   New South Wales         Australia       2500  1 (11) 500 555-0131   \n",
       "\n",
       "    BirthDate   Education    Occupation Gender MaritalStatus  HomeOwnerFlag  \\\n",
       "0  1966-04-08  Bachelors   Professional      M             M              1   \n",
       "1  1965-05-14  Bachelors   Professional      M             S              0   \n",
       "2  1965-08-12  Bachelors   Professional      M             M              1   \n",
       "3  1968-02-15  Bachelors   Professional      F             S              0   \n",
       "4  1968-08-08  Bachelors   Professional      F             S              1   \n",
       "\n",
       "   NumberCarsOwned  NumberChildrenAtHome  TotalChildren  YearlyIncome  \n",
       "0                0                     0              2        137947  \n",
       "1                1                     3              3        101141  \n",
       "2                1                     3              3         91945  \n",
       "3                1                     0              0         86688  \n",
       "4                4                     5              5         92771  "
      ]
     },
     "execution_count": 17,
     "metadata": {},
     "output_type": "execute_result"
    }
   ],
   "source": [
    "custdat.drop(labels = ['Title','MiddleName','Suffix','AddressLine2'], axis = 1, inplace = True)\n",
    "custdat.head()"
   ]
  },
  {
   "cell_type": "markdown",
   "metadata": {},
   "source": [
    "The prompt indicates that there will be duplicate customer ID's, and in the event of duplicate ID's, we should retain only the most recent record (I assume that means the one that appears later in the row index)."
   ]
  },
  {
   "cell_type": "code",
   "execution_count": 21,
   "metadata": {},
   "outputs": [
    {
     "data": {
      "text/plain": [
       "CustomerID\n",
       "24813    2\n",
       "14684    2\n",
       "14551    2\n",
       "26443    2\n",
       "15512    2\n",
       "Name: CustomerID, dtype: int64"
      ]
     },
     "execution_count": 21,
     "metadata": {},
     "output_type": "execute_result"
    }
   ],
   "source": [
    "custdat.groupby(['CustomerID']).CustomerID.count().sort_values(ascending = False).head()"
   ]
  },
  {
   "cell_type": "markdown",
   "metadata": {},
   "source": [
    "So some records do appear twice. The drop_duplicates() function should be sufficient for clearing all of these."
   ]
  },
  {
   "cell_type": "code",
   "execution_count": 22,
   "metadata": {},
   "outputs": [],
   "source": [
    "custdat.drop_duplicates(subset = 'CustomerID', keep = 'last', inplace = True)"
   ]
  },
  {
   "cell_type": "markdown",
   "metadata": {},
   "source": [
    "Now that the data is cleaned, it would make sense to join the BikeBuyer and AveMonthSpend tables with the Customer data table. Each table should have 1 row per customer ID, and we can do a quick sanity check on this by checking the number of rows in each table:"
   ]
  },
  {
   "cell_type": "code",
   "execution_count": 40,
   "metadata": {},
   "outputs": [
    {
     "name": "stdout",
     "output_type": "stream",
     "text": [
      "16404\n",
      "16404\n",
      "16404\n"
     ]
    }
   ],
   "source": [
    "print(len(custdat))\n",
    "print(len(buydat))\n",
    "print(len(spenddat))"
   ]
  },
  {
   "cell_type": "markdown",
   "metadata": {},
   "source": [
    "Let's do the join:"
   ]
  },
  {
   "cell_type": "code",
   "execution_count": 53,
   "metadata": {},
   "outputs": [],
   "source": [
    "dat = custdat.set_index('CustomerID').join(buydat.set_index('CustomerID'), on = 'CustomerID')\n",
    "dat = dat.join(spenddat.set_index('CustomerID'), on = 'CustomerID')"
   ]
  },
  {
   "cell_type": "markdown",
   "metadata": {},
   "source": [
    "The prompt asks us to look at data by customer's age group, a feature which is not yet defined. So we will create this feature ourselves.\n",
    "\n",
    "We will need to convert the BirthDate column to datetime, and then we can simply subtract that from the current date (January 1 1998) to get the customer's age, then we will sort customers into one of three groups based on their age."
   ]
  },
  {
   "cell_type": "code",
   "execution_count": 73,
   "metadata": {},
   "outputs": [],
   "source": [
    "dat['BirthDate'] = pd.to_datetime(dat['BirthDate'], yearfirst=True)\n",
    "dat['Age'] = dat['BirthDate'].apply(lambda x: len(pd.date_range(start = x, end = pd.to_datetime('1998-01-01'), freq = 'Y')) - 1)\n",
    "dat['AgeGroup'] = pd.cut(dat['Age'], bins = [0,25,45,55, np.inf], labels = ['Under 25','25 to 45','45 to 55','Over 55'])"
   ]
  },
  {
   "cell_type": "markdown",
   "metadata": {},
   "source": [
    "That's all the feature engineering we'll need for now. Let's look at some aggregate statistics:"
   ]
  },
  {
   "cell_type": "code",
   "execution_count": 81,
   "metadata": {},
   "outputs": [
    {
     "data": {
      "text/plain": [
       "Text(0.5,1,'Median Yearly Income by Occupation')"
      ]
     },
     "execution_count": 81,
     "metadata": {},
     "output_type": "execute_result"
    },
    {
     "data": {
      "image/png": "[encoded data removed]",
      "text/plain": [
       "<Figure size 432x288 with 1 Axes>"
      ]
     },
     "metadata": {},
     "output_type": "display_data"
    }
   ],
   "source": [
    "# Yearly Income by Occupation\n",
    "dat.groupby(['Occupation']).YearlyIncome.median().sort_values().plot(kind = 'bar')\n",
    "plt.title('Median Yearly Income by Occupation')"
   ]
  },
  {
   "cell_type": "code",
   "execution_count": 93,
   "metadata": {},
   "outputs": [
    {
     "data": {
      "text/plain": [
       "<matplotlib.legend.Legend at 0x1a22d5e278>"
      ]
     },
     "execution_count": 93,
     "metadata": {},
     "output_type": "execute_result"
    },
    {
     "data": {
      "image/png": "[encoded data removed]",
      "text/plain": [
       "<Figure size 432x288 with 1 Axes>"
      ]
     },
     "metadata": {},
     "output_type": "display_data"
    }
   ],
   "source": [
    "# Average Monthly Spending, by age group and gender\n",
    "male_s = dat[dat['Gender'] == 'M'].groupby(['AgeGroup']).AveMonthSpend.mean()\n",
    "female_s = dat[dat['Gender'] == 'F'].groupby(['AgeGroup']).AveMonthSpend.mean()\n",
    "ind = np.arange(len(male_s))\n",
    "width = 0.35\n",
    "plt.bar(ind, male_s, width, label='Men')\n",
    "plt.bar(ind + width, female_s, width, label='Women')\n",
    "plt.ylabel('Average Monthly Spending')\n",
    "plt.title('Spending By Age Group/Gender')\n",
    "plt.xticks(ind + width / 2, ('Under 25', '25 to 45', '45 to 55', 'Over 55'))\n",
    "plt.legend()"
   ]
  },
  {
   "cell_type": "code",
   "execution_count": 99,
   "metadata": {},
   "outputs": [
    {
     "data": {
      "text/plain": [
       "Text(0,0.5,'Median Monthly Spending')"
      ]
     },
     "execution_count": 99,
     "metadata": {},
     "output_type": "execute_result"
    },
    {
     "data": {
      "image/png": "[encoded data removed]",
      "text/plain": [
       "<Figure size 432x288 with 1 Axes>"
      ]
     },
     "metadata": {},
     "output_type": "display_data"
    }
   ],
   "source": [
    "# Median Monthly Spending by Marital Status\n",
    "dat.groupby(['MaritalStatus']).AveMonthSpend.median().plot(kind='bar')\n",
    "plt.ylabel('Median Monthly Spending')"
   ]
  },
  {
   "cell_type": "code",
   "execution_count": 101,
   "metadata": {},
   "outputs": [
    {
     "data": {
      "text/plain": [
       "Text(0,0.5,'Median Monthly Spending')"
      ]
     },
     "execution_count": 101,
     "metadata": {},
     "output_type": "execute_result"
    },
    {
     "data": {
      "image/png": "[encoded data removed]",
      "text/plain": [
       "<Figure size 432x288 with 1 Axes>"
      ]
     },
     "metadata": {},
     "output_type": "display_data"
    }
   ],
   "source": [
    "# Median Monthly Spending by No. of Cars Owned\n",
    "dat.groupby(['NumberCarsOwned']).AveMonthSpend.median().plot(kind='bar')\n",
    "plt.ylabel('Median Monthly Spending')"
   ]
  },
  {
   "cell_type": "code",
   "execution_count": 103,
   "metadata": {},
   "outputs": [
    {
     "data": {
      "text/plain": [
       "Text(0,0.5,'Median Monthly Spending')"
      ]
     },
     "execution_count": 103,
     "metadata": {},
     "output_type": "execute_result"
    },
    {
     "data": {
      "image/png": "[encoded data removed]",
      "text/plain": [
       "<Figure size 432x288 with 1 Axes>"
      ]
     },
     "metadata": {},
     "output_type": "display_data"
    }
   ],
   "source": [
    "# Median Monthly Spending by Gender\n",
    "dat.groupby(['Gender']).AveMonthSpend.median().plot(kind='bar')\n",
    "plt.ylabel('Median Monthly Spending')"
   ]
  },
  {
   "cell_type": "code",
   "execution_count": 117,
   "metadata": {},
   "outputs": [
    {
     "data": {
      "text/plain": [
       "Text(0,0.5,'Average Monthly Spending')"
      ]
     },
     "execution_count": 117,
     "metadata": {},
     "output_type": "execute_result"
    },
    {
     "data": {
      "image/png": "[encoded data removed]",
      "text/plain": [
       "<Figure size 432x288 with 1 Axes>"
      ]
     },
     "metadata": {},
     "output_type": "display_data"
    }
   ],
   "source": [
    "# Spending Range by Gender\n",
    "sep_dat = [dat[dat['Gender'] == 'M'].AveMonthSpend, dat[dat['Gender'] == 'F'].AveMonthSpend]\n",
    "plt.boxplot(sep_dat)\n",
    "locs, labels = plt.xticks()\n",
    "plt.xticks(locs, ['Men','Women'])\n",
    "plt.ylabel('Average Monthly Spending')"
   ]
  },
  {
   "cell_type": "code",
   "execution_count": 120,
   "metadata": {},
   "outputs": [
    {
     "data": {
      "text/plain": [
       "Text(0,0.5,'Median Monthly Spending')"
      ]
     },
     "execution_count": 120,
     "metadata": {},
     "output_type": "execute_result"
    },
    {
     "data": {
      "image/png": "[encoded data removed]",
      "text/plain": [
       "<Figure size 432x288 with 1 Axes>"
      ]
     },
     "metadata": {},
     "output_type": "display_data"
    }
   ],
   "source": [
    "# Median Monthly Spending by No. of Children at Home\n",
    "dat.groupby(['NumberChildrenAtHome']).AveMonthSpend.median().plot(kind='bar')\n",
    "plt.ylabel('Median Monthly Spending')"
   ]
  },
  {
   "cell_type": "code",
   "execution_count": 125,
   "metadata": {},
   "outputs": [
    {
     "data": {
      "text/plain": [
       "([<matplotlib.axis.XTick at 0x1a2452d1d0>,\n",
       "  <matplotlib.axis.XTick at 0x1a2452aac8>],\n",
       " <a list of 2 Text xticklabel objects>)"
      ]
     },
     "execution_count": 125,
     "metadata": {},
     "output_type": "execute_result"
    },
    {
     "data": {
      "image/png": "[encoded data removed]",
      "text/plain": [
       "<Figure size 432x288 with 1 Axes>"
      ]
     },
     "metadata": {},
     "output_type": "display_data"
    }
   ],
   "source": [
    "# Median Yearly Income for Bike Buyers vs Non Bike Buyers\n",
    "dat.groupby(['BikeBuyer']).YearlyIncome.median().plot(kind='bar')\n",
    "plt.ylabel('Median Yearly Income')\n",
    "locs, labels = plt.xticks()\n",
    "plt.xticks(locs, ['Non Bike Buyer','Bike Buyer'])"
   ]
  },
  {
   "cell_type": "code",
   "execution_count": 127,
   "metadata": {},
   "outputs": [
    {
     "data": {
      "text/plain": [
       "([<matplotlib.axis.XTick at 0x1a23c41908>,\n",
       "  <matplotlib.axis.XTick at 0x1a23c41240>],\n",
       " <a list of 2 Text xticklabel objects>)"
      ]
     },
     "execution_count": 127,
     "metadata": {},
     "output_type": "execute_result"
    },
    {
     "data": {
      "image/png": "[encoded data removed]",
      "text/plain": [
       "<Figure size 432x288 with 1 Axes>"
      ]
     },
     "metadata": {},
     "output_type": "display_data"
    }
   ],
   "source": [
    "# Median Number of Cars owned for Bike Buyers vs Non Bike Buyers\n",
    "dat.groupby(['BikeBuyer']).NumberCarsOwned.median().plot(kind='bar')\n",
    "plt.ylabel('Median Number of Cars Owned')\n",
    "locs, labels = plt.xticks()\n",
    "plt.xticks(locs, ['Non Bike Buyer','Bike Buyer'])"
   ]
  },
  {
   "cell_type": "code",
   "execution_count": 138,
   "metadata": {},
   "outputs": [
    {
     "data": {
      "text/plain": [
       "<matplotlib.legend.Legend at 0x1a24e16320>"
      ]
     },
     "execution_count": 138,
     "metadata": {},
     "output_type": "execute_result"
    },
    {
     "data": {
      "image/png": "[encoded data removed]",
      "text/plain": [
       "<Figure size 432x288 with 1 Axes>"
      ]
     },
     "metadata": {},
     "output_type": "display_data"
    }
   ],
   "source": [
    "# Occupations of Bike Buyers vs Non Bike Buyers\n",
    "nonbuyers = dat[dat['BikeBuyer'] == 0].groupby(['Occupation']).FirstName.count()\n",
    "buyers = dat[dat['BikeBuyer'] == 1].groupby(['Occupation']).FirstName.count()\n",
    "ind = np.arange(len(nonbuyers))\n",
    "width = 0.35\n",
    "plt.bar(ind, nonbuyers, width, label='Non Bike Buyer')\n",
    "plt.bar(ind + width, buyers, width, label='Bike Buyer')\n",
    "plt.ylabel('Average Monthly Spending')\n",
    "plt.title('Spending By Age Group/Gender')\n",
    "plt.xticks(ind + width / 2, ['Clerical','Management','Manual','Professional','Skilled Manual'])\n",
    "plt.legend()"
   ]
  },
  {
   "cell_type": "code",
   "execution_count": 150,
   "metadata": {},
   "outputs": [
    {
     "data": {
      "text/plain": [
       "<matplotlib.legend.Legend at 0x1a254d3f60>"
      ]
     },
     "execution_count": 150,
     "metadata": {},
     "output_type": "execute_result"
    },
    {
     "data": {
      "image/png": "[encoded data removed]",
      "text/plain": [
       "<Figure size 432x288 with 1 Axes>"
      ]
     },
     "metadata": {},
     "output_type": "display_data"
    }
   ],
   "source": [
    "# Bike Buyers by Gender\n",
    "nonbuyers = dat[dat['BikeBuyer'] == 0].groupby(['Gender']).FirstName.count()\n",
    "buyers = dat[dat['BikeBuyer'] == 1].groupby(['Gender']).FirstName.count()\n",
    "ind = np.arange(len(nonbuyers))\n",
    "width = 0.35\n",
    "plt.bar(ind, nonbuyers, width, label='Non Bike Buyer')\n",
    "plt.bar(ind + width, male_b, width, label='Bike Buyer')\n",
    "plt.title('Bike Buyers by Gender')\n",
    "plt.xticks(ind + width / 2, ['Women','Men'])\n",
    "plt.legend()"
   ]
  },
  {
   "cell_type": "code",
   "execution_count": 152,
   "metadata": {},
   "outputs": [
    {
     "data": {
      "text/plain": [
       "<matplotlib.legend.Legend at 0x1a2552cdd8>"
      ]
     },
     "execution_count": 152,
     "metadata": {},
     "output_type": "execute_result"
    },
    {
     "data": {
      "image/png": "[encoded data removed]",
      "text/plain": [
       "<Figure size 432x288 with 1 Axes>"
      ]
     },
     "metadata": {},
     "output_type": "display_data"
    }
   ],
   "source": [
    "# Bike Buyers by Marital Status\n",
    "nonbuyers = dat[dat['BikeBuyer'] == 0].groupby(['MaritalStatus']).FirstName.count()\n",
    "buyers = dat[dat['BikeBuyer'] == 1].groupby(['MaritalStatus']).FirstName.count()\n",
    "ind = np.arange(len(nonbuyers))\n",
    "width = 0.35\n",
    "plt.bar(ind, nonbuyers, width, label='Non Bike Buyer')\n",
    "plt.bar(ind + width, male_b, width, label='Bike Buyer')\n",
    "plt.title('Bike Buyers by Gender')\n",
    "plt.xticks(ind + width / 2, ['Married','Single'])\n",
    "plt.legend()"
   ]
  },
  {
   "cell_type": "markdown",
   "metadata": {},
   "source": [
    "## Classification"
   ]
  },
  {
   "cell_type": "markdown",
   "metadata": {},
   "source": [
    "Our next objective is to build a classifier to predict if a given customer is a bike buyer or not.\n",
    "\n",
    "In terms of feature engineering, most of our features are categorical, and will need to be one hot encoded before being used in a model."
   ]
  },
  {
   "cell_type": "code",
   "execution_count": 155,
   "metadata": {},
   "outputs": [],
   "source": [
    "# These are the columns we'll be using to predict the BikeBuyer column\n",
    "cols = ['Education','Occupation','Gender','MaritalStatus','HomeOwnerFlag','NumberCarsOwned',\n",
    "       'NumberChildrenAtHome','TotalChildren','YearlyIncome','AgeGroup']"
   ]
  },
  {
   "cell_type": "code",
   "execution_count": 156,
   "metadata": {},
   "outputs": [
    {
     "data": {
      "text/html": [
       "<div>\n",
       "<style scoped>\n",
       "    .dataframe tbody tr th:only-of-type {\n",
       "        vertical-align: middle;\n",
       "    }\n",
       "\n",
       "    .dataframe tbody tr th {\n",
       "        vertical-align: top;\n",
       "    }\n",
       "\n",
       "    .dataframe thead th {\n",
       "        text-align: right;\n",
       "    }\n",
       "</style>\n",
       "<table border=\"1\" class=\"dataframe\">\n",
       "  <thead>\n",
       "    <tr style=\"text-align: right;\">\n",
       "      <th></th>\n",
       "      <th>Education</th>\n",
       "      <th>Occupation</th>\n",
       "      <th>Gender</th>\n",
       "      <th>MaritalStatus</th>\n",
       "      <th>HomeOwnerFlag</th>\n",
       "      <th>NumberCarsOwned</th>\n",
       "      <th>NumberChildrenAtHome</th>\n",
       "      <th>TotalChildren</th>\n",
       "      <th>YearlyIncome</th>\n",
       "      <th>AgeGroup</th>\n",
       "    </tr>\n",
       "    <tr>\n",
       "      <th>CustomerID</th>\n",
       "      <th></th>\n",
       "      <th></th>\n",
       "      <th></th>\n",
       "      <th></th>\n",
       "      <th></th>\n",
       "      <th></th>\n",
       "      <th></th>\n",
       "      <th></th>\n",
       "      <th></th>\n",
       "      <th></th>\n",
       "    </tr>\n",
       "  </thead>\n",
       "  <tbody>\n",
       "    <tr>\n",
       "      <th>11000</th>\n",
       "      <td>Bachelors</td>\n",
       "      <td>Professional</td>\n",
       "      <td>M</td>\n",
       "      <td>M</td>\n",
       "      <td>1</td>\n",
       "      <td>0</td>\n",
       "      <td>0</td>\n",
       "      <td>2</td>\n",
       "      <td>137947</td>\n",
       "      <td>25 to 45</td>\n",
       "    </tr>\n",
       "    <tr>\n",
       "      <th>11001</th>\n",
       "      <td>Bachelors</td>\n",
       "      <td>Professional</td>\n",
       "      <td>M</td>\n",
       "      <td>S</td>\n",
       "      <td>0</td>\n",
       "      <td>1</td>\n",
       "      <td>3</td>\n",
       "      <td>3</td>\n",
       "      <td>101141</td>\n",
       "      <td>25 to 45</td>\n",
       "    </tr>\n",
       "    <tr>\n",
       "      <th>11002</th>\n",
       "      <td>Bachelors</td>\n",
       "      <td>Professional</td>\n",
       "      <td>M</td>\n",
       "      <td>M</td>\n",
       "      <td>1</td>\n",
       "      <td>1</td>\n",
       "      <td>3</td>\n",
       "      <td>3</td>\n",
       "      <td>91945</td>\n",
       "      <td>25 to 45</td>\n",
       "    </tr>\n",
       "    <tr>\n",
       "      <th>11003</th>\n",
       "      <td>Bachelors</td>\n",
       "      <td>Professional</td>\n",
       "      <td>F</td>\n",
       "      <td>S</td>\n",
       "      <td>0</td>\n",
       "      <td>1</td>\n",
       "      <td>0</td>\n",
       "      <td>0</td>\n",
       "      <td>86688</td>\n",
       "      <td>25 to 45</td>\n",
       "    </tr>\n",
       "    <tr>\n",
       "      <th>11004</th>\n",
       "      <td>Bachelors</td>\n",
       "      <td>Professional</td>\n",
       "      <td>F</td>\n",
       "      <td>S</td>\n",
       "      <td>1</td>\n",
       "      <td>4</td>\n",
       "      <td>5</td>\n",
       "      <td>5</td>\n",
       "      <td>92771</td>\n",
       "      <td>25 to 45</td>\n",
       "    </tr>\n",
       "  </tbody>\n",
       "</table>\n",
       "</div>"
      ],
      "text/plain": [
       "             Education    Occupation Gender MaritalStatus  HomeOwnerFlag  \\\n",
       "CustomerID                                                                 \n",
       "11000       Bachelors   Professional      M             M              1   \n",
       "11001       Bachelors   Professional      M             S              0   \n",
       "11002       Bachelors   Professional      M             M              1   \n",
       "11003       Bachelors   Professional      F             S              0   \n",
       "11004       Bachelors   Professional      F             S              1   \n",
       "\n",
       "            NumberCarsOwned  NumberChildrenAtHome  TotalChildren  \\\n",
       "CustomerID                                                         \n",
       "11000                     0                     0              2   \n",
       "11001                     1                     3              3   \n",
       "11002                     1                     3              3   \n",
       "11003                     1                     0              0   \n",
       "11004                     4                     5              5   \n",
       "\n",
       "            YearlyIncome  AgeGroup  \n",
       "CustomerID                          \n",
       "11000             137947  25 to 45  \n",
       "11001             101141  25 to 45  \n",
       "11002              91945  25 to 45  \n",
       "11003              86688  25 to 45  \n",
       "11004              92771  25 to 45  "
      ]
     },
     "execution_count": 156,
     "metadata": {},
     "output_type": "execute_result"
    }
   ],
   "source": [
    "train = dat[cols]\n",
    "train.head()"
   ]
  },
  {
   "cell_type": "code",
   "execution_count": 158,
   "metadata": {},
   "outputs": [
    {
     "data": {
      "text/html": [
       "<div>\n",
       "<style scoped>\n",
       "    .dataframe tbody tr th:only-of-type {\n",
       "        vertical-align: middle;\n",
       "    }\n",
       "\n",
       "    .dataframe tbody tr th {\n",
       "        vertical-align: top;\n",
       "    }\n",
       "\n",
       "    .dataframe thead th {\n",
       "        text-align: right;\n",
       "    }\n",
       "</style>\n",
       "<table border=\"1\" class=\"dataframe\">\n",
       "  <thead>\n",
       "    <tr style=\"text-align: right;\">\n",
       "      <th></th>\n",
       "      <th>HomeOwnerFlag</th>\n",
       "      <th>YearlyIncome</th>\n",
       "      <th>Education_Bachelors</th>\n",
       "      <th>Education_Graduate Degree</th>\n",
       "      <th>Education_High School</th>\n",
       "      <th>Education_Partial College</th>\n",
       "      <th>Education_Partial High School</th>\n",
       "      <th>Occupation_Clerical</th>\n",
       "      <th>Occupation_Management</th>\n",
       "      <th>Occupation_Manual</th>\n",
       "      <th>...</th>\n",
       "      <th>TotalChildren_0</th>\n",
       "      <th>TotalChildren_1</th>\n",
       "      <th>TotalChildren_2</th>\n",
       "      <th>TotalChildren_3</th>\n",
       "      <th>TotalChildren_4</th>\n",
       "      <th>TotalChildren_5</th>\n",
       "      <th>AgeGroup_Under 25</th>\n",
       "      <th>AgeGroup_25 to 45</th>\n",
       "      <th>AgeGroup_45 to 55</th>\n",
       "      <th>AgeGroup_Over 55</th>\n",
       "    </tr>\n",
       "    <tr>\n",
       "      <th>CustomerID</th>\n",
       "      <th></th>\n",
       "      <th></th>\n",
       "      <th></th>\n",
       "      <th></th>\n",
       "      <th></th>\n",
       "      <th></th>\n",
       "      <th></th>\n",
       "      <th></th>\n",
       "      <th></th>\n",
       "      <th></th>\n",
       "      <th></th>\n",
       "      <th></th>\n",
       "      <th></th>\n",
       "      <th></th>\n",
       "      <th></th>\n",
       "      <th></th>\n",
       "      <th></th>\n",
       "      <th></th>\n",
       "      <th></th>\n",
       "      <th></th>\n",
       "      <th></th>\n",
       "    </tr>\n",
       "  </thead>\n",
       "  <tbody>\n",
       "    <tr>\n",
       "      <th>11000</th>\n",
       "      <td>1</td>\n",
       "      <td>137947</td>\n",
       "      <td>1</td>\n",
       "      <td>0</td>\n",
       "      <td>0</td>\n",
       "      <td>0</td>\n",
       "      <td>0</td>\n",
       "      <td>0</td>\n",
       "      <td>0</td>\n",
       "      <td>0</td>\n",
       "      <td>...</td>\n",
       "      <td>0</td>\n",
       "      <td>0</td>\n",
       "      <td>1</td>\n",
       "      <td>0</td>\n",
       "      <td>0</td>\n",
       "      <td>0</td>\n",
       "      <td>0</td>\n",
       "      <td>1</td>\n",
       "      <td>0</td>\n",
       "      <td>0</td>\n",
       "    </tr>\n",
       "    <tr>\n",
       "      <th>11001</th>\n",
       "      <td>0</td>\n",
       "      <td>101141</td>\n",
       "      <td>1</td>\n",
       "      <td>0</td>\n",
       "      <td>0</td>\n",
       "      <td>0</td>\n",
       "      <td>0</td>\n",
       "      <td>0</td>\n",
       "      <td>0</td>\n",
       "      <td>0</td>\n",
       "      <td>...</td>\n",
       "      <td>0</td>\n",
       "      <td>0</td>\n",
       "      <td>0</td>\n",
       "      <td>1</td>\n",
       "      <td>0</td>\n",
       "      <td>0</td>\n",
       "      <td>0</td>\n",
       "      <td>1</td>\n",
       "      <td>0</td>\n",
       "      <td>0</td>\n",
       "    </tr>\n",
       "    <tr>\n",
       "      <th>11002</th>\n",
       "      <td>1</td>\n",
       "      <td>91945</td>\n",
       "      <td>1</td>\n",
       "      <td>0</td>\n",
       "      <td>0</td>\n",
       "      <td>0</td>\n",
       "      <td>0</td>\n",
       "      <td>0</td>\n",
       "      <td>0</td>\n",
       "      <td>0</td>\n",
       "      <td>...</td>\n",
       "      <td>0</td>\n",
       "      <td>0</td>\n",
       "      <td>0</td>\n",
       "      <td>1</td>\n",
       "      <td>0</td>\n",
       "      <td>0</td>\n",
       "      <td>0</td>\n",
       "      <td>1</td>\n",
       "      <td>0</td>\n",
       "      <td>0</td>\n",
       "    </tr>\n",
       "    <tr>\n",
       "      <th>11003</th>\n",
       "      <td>0</td>\n",
       "      <td>86688</td>\n",
       "      <td>1</td>\n",
       "      <td>0</td>\n",
       "      <td>0</td>\n",
       "      <td>0</td>\n",
       "      <td>0</td>\n",
       "      <td>0</td>\n",
       "      <td>0</td>\n",
       "      <td>0</td>\n",
       "      <td>...</td>\n",
       "      <td>1</td>\n",
       "      <td>0</td>\n",
       "      <td>0</td>\n",
       "      <td>0</td>\n",
       "      <td>0</td>\n",
       "      <td>0</td>\n",
       "      <td>0</td>\n",
       "      <td>1</td>\n",
       "      <td>0</td>\n",
       "      <td>0</td>\n",
       "    </tr>\n",
       "    <tr>\n",
       "      <th>11004</th>\n",
       "      <td>1</td>\n",
       "      <td>92771</td>\n",
       "      <td>1</td>\n",
       "      <td>0</td>\n",
       "      <td>0</td>\n",
       "      <td>0</td>\n",
       "      <td>0</td>\n",
       "      <td>0</td>\n",
       "      <td>0</td>\n",
       "      <td>0</td>\n",
       "      <td>...</td>\n",
       "      <td>0</td>\n",
       "      <td>0</td>\n",
       "      <td>0</td>\n",
       "      <td>0</td>\n",
       "      <td>0</td>\n",
       "      <td>1</td>\n",
       "      <td>0</td>\n",
       "      <td>1</td>\n",
       "      <td>0</td>\n",
       "      <td>0</td>\n",
       "    </tr>\n",
       "  </tbody>\n",
       "</table>\n",
       "<p>5 rows × 37 columns</p>\n",
       "</div>"
      ],
      "text/plain": [
       "            HomeOwnerFlag  YearlyIncome  Education_Bachelors   \\\n",
       "CustomerID                                                      \n",
       "11000                   1        137947                     1   \n",
       "11001                   0        101141                     1   \n",
       "11002                   1         91945                     1   \n",
       "11003                   0         86688                     1   \n",
       "11004                   1         92771                     1   \n",
       "\n",
       "            Education_Graduate Degree  Education_High School  \\\n",
       "CustomerID                                                     \n",
       "11000                               0                      0   \n",
       "11001                               0                      0   \n",
       "11002                               0                      0   \n",
       "11003                               0                      0   \n",
       "11004                               0                      0   \n",
       "\n",
       "            Education_Partial College  Education_Partial High School  \\\n",
       "CustomerID                                                             \n",
       "11000                               0                              0   \n",
       "11001                               0                              0   \n",
       "11002                               0                              0   \n",
       "11003                               0                              0   \n",
       "11004                               0                              0   \n",
       "\n",
       "            Occupation_Clerical  Occupation_Management  Occupation_Manual  \\\n",
       "CustomerID                                                                  \n",
       "11000                         0                      0                  0   \n",
       "11001                         0                      0                  0   \n",
       "11002                         0                      0                  0   \n",
       "11003                         0                      0                  0   \n",
       "11004                         0                      0                  0   \n",
       "\n",
       "                  ...         TotalChildren_0  TotalChildren_1  \\\n",
       "CustomerID        ...                                            \n",
       "11000             ...                       0                0   \n",
       "11001             ...                       0                0   \n",
       "11002             ...                       0                0   \n",
       "11003             ...                       1                0   \n",
       "11004             ...                       0                0   \n",
       "\n",
       "            TotalChildren_2  TotalChildren_3  TotalChildren_4  \\\n",
       "CustomerID                                                      \n",
       "11000                     1                0                0   \n",
       "11001                     0                1                0   \n",
       "11002                     0                1                0   \n",
       "11003                     0                0                0   \n",
       "11004                     0                0                0   \n",
       "\n",
       "            TotalChildren_5  AgeGroup_Under 25  AgeGroup_25 to 45  \\\n",
       "CustomerID                                                          \n",
       "11000                     0                  0                  1   \n",
       "11001                     0                  0                  1   \n",
       "11002                     0                  0                  1   \n",
       "11003                     0                  0                  1   \n",
       "11004                     1                  0                  1   \n",
       "\n",
       "            AgeGroup_45 to 55  AgeGroup_Over 55  \n",
       "CustomerID                                       \n",
       "11000                       0                 0  \n",
       "11001                       0                 0  \n",
       "11002                       0                 0  \n",
       "11003                       0                 0  \n",
       "11004                       0                 0  \n",
       "\n",
       "[5 rows x 37 columns]"
      ]
     },
     "execution_count": 158,
     "metadata": {},
     "output_type": "execute_result"
    }
   ],
   "source": [
    "# One hot encoding\n",
    "train = pd.get_dummies(train, columns = ['Education','Occupation','Gender','MaritalStatus','NumberCarsOwned','NumberChildrenAtHome','TotalChildren','AgeGroup'])\n",
    "train.head()"
   ]
  },
  {
   "cell_type": "code",
   "execution_count": 163,
   "metadata": {},
   "outputs": [
    {
     "name": "stderr",
     "output_type": "stream",
     "text": [
      "/Users/christophermckeag/anaconda3/lib/python3.6/site-packages/sklearn/utils/validation.py:475: DataConversionWarning: Data with input dtype int64 was converted to float64 by StandardScaler.\n",
      "  warnings.warn(msg, DataConversionWarning)\n",
      "/Users/christophermckeag/anaconda3/lib/python3.6/site-packages/sklearn/utils/validation.py:475: DataConversionWarning: Data with input dtype int64 was converted to float64 by StandardScaler.\n",
      "  warnings.warn(msg, DataConversionWarning)\n"
     ]
    },
    {
     "data": {
      "text/html": [
       "<div>\n",
       "<style scoped>\n",
       "    .dataframe tbody tr th:only-of-type {\n",
       "        vertical-align: middle;\n",
       "    }\n",
       "\n",
       "    .dataframe tbody tr th {\n",
       "        vertical-align: top;\n",
       "    }\n",
       "\n",
       "    .dataframe thead th {\n",
       "        text-align: right;\n",
       "    }\n",
       "</style>\n",
       "<table border=\"1\" class=\"dataframe\">\n",
       "  <thead>\n",
       "    <tr style=\"text-align: right;\">\n",
       "      <th></th>\n",
       "      <th>HomeOwnerFlag</th>\n",
       "      <th>YearlyIncome</th>\n",
       "      <th>Education_Bachelors</th>\n",
       "      <th>Education_Graduate Degree</th>\n",
       "      <th>Education_High School</th>\n",
       "      <th>Education_Partial College</th>\n",
       "      <th>Education_Partial High School</th>\n",
       "      <th>Occupation_Clerical</th>\n",
       "      <th>Occupation_Management</th>\n",
       "      <th>Occupation_Manual</th>\n",
       "      <th>...</th>\n",
       "      <th>TotalChildren_0</th>\n",
       "      <th>TotalChildren_1</th>\n",
       "      <th>TotalChildren_2</th>\n",
       "      <th>TotalChildren_3</th>\n",
       "      <th>TotalChildren_4</th>\n",
       "      <th>TotalChildren_5</th>\n",
       "      <th>AgeGroup_Under 25</th>\n",
       "      <th>AgeGroup_25 to 45</th>\n",
       "      <th>AgeGroup_45 to 55</th>\n",
       "      <th>AgeGroup_Over 55</th>\n",
       "    </tr>\n",
       "    <tr>\n",
       "      <th>CustomerID</th>\n",
       "      <th></th>\n",
       "      <th></th>\n",
       "      <th></th>\n",
       "      <th></th>\n",
       "      <th></th>\n",
       "      <th></th>\n",
       "      <th></th>\n",
       "      <th></th>\n",
       "      <th></th>\n",
       "      <th></th>\n",
       "      <th></th>\n",
       "      <th></th>\n",
       "      <th></th>\n",
       "      <th></th>\n",
       "      <th></th>\n",
       "      <th></th>\n",
       "      <th></th>\n",
       "      <th></th>\n",
       "      <th></th>\n",
       "      <th></th>\n",
       "      <th></th>\n",
       "    </tr>\n",
       "  </thead>\n",
       "  <tbody>\n",
       "    <tr>\n",
       "      <th>11000</th>\n",
       "      <td>1</td>\n",
       "      <td>1.505703</td>\n",
       "      <td>1</td>\n",
       "      <td>0</td>\n",
       "      <td>0</td>\n",
       "      <td>0</td>\n",
       "      <td>0</td>\n",
       "      <td>0</td>\n",
       "      <td>0</td>\n",
       "      <td>0</td>\n",
       "      <td>...</td>\n",
       "      <td>0</td>\n",
       "      <td>0</td>\n",
       "      <td>1</td>\n",
       "      <td>0</td>\n",
       "      <td>0</td>\n",
       "      <td>0</td>\n",
       "      <td>0</td>\n",
       "      <td>1</td>\n",
       "      <td>0</td>\n",
       "      <td>0</td>\n",
       "    </tr>\n",
       "    <tr>\n",
       "      <th>11001</th>\n",
       "      <td>0</td>\n",
       "      <td>0.579234</td>\n",
       "      <td>1</td>\n",
       "      <td>0</td>\n",
       "      <td>0</td>\n",
       "      <td>0</td>\n",
       "      <td>0</td>\n",
       "      <td>0</td>\n",
       "      <td>0</td>\n",
       "      <td>0</td>\n",
       "      <td>...</td>\n",
       "      <td>0</td>\n",
       "      <td>0</td>\n",
       "      <td>0</td>\n",
       "      <td>1</td>\n",
       "      <td>0</td>\n",
       "      <td>0</td>\n",
       "      <td>0</td>\n",
       "      <td>1</td>\n",
       "      <td>0</td>\n",
       "      <td>0</td>\n",
       "    </tr>\n",
       "    <tr>\n",
       "      <th>11002</th>\n",
       "      <td>1</td>\n",
       "      <td>0.347755</td>\n",
       "      <td>1</td>\n",
       "      <td>0</td>\n",
       "      <td>0</td>\n",
       "      <td>0</td>\n",
       "      <td>0</td>\n",
       "      <td>0</td>\n",
       "      <td>0</td>\n",
       "      <td>0</td>\n",
       "      <td>...</td>\n",
       "      <td>0</td>\n",
       "      <td>0</td>\n",
       "      <td>0</td>\n",
       "      <td>1</td>\n",
       "      <td>0</td>\n",
       "      <td>0</td>\n",
       "      <td>0</td>\n",
       "      <td>1</td>\n",
       "      <td>0</td>\n",
       "      <td>0</td>\n",
       "    </tr>\n",
       "    <tr>\n",
       "      <th>11003</th>\n",
       "      <td>0</td>\n",
       "      <td>0.215428</td>\n",
       "      <td>1</td>\n",
       "      <td>0</td>\n",
       "      <td>0</td>\n",
       "      <td>0</td>\n",
       "      <td>0</td>\n",
       "      <td>0</td>\n",
       "      <td>0</td>\n",
       "      <td>0</td>\n",
       "      <td>...</td>\n",
       "      <td>1</td>\n",
       "      <td>0</td>\n",
       "      <td>0</td>\n",
       "      <td>0</td>\n",
       "      <td>0</td>\n",
       "      <td>0</td>\n",
       "      <td>0</td>\n",
       "      <td>1</td>\n",
       "      <td>0</td>\n",
       "      <td>0</td>\n",
       "    </tr>\n",
       "    <tr>\n",
       "      <th>11004</th>\n",
       "      <td>1</td>\n",
       "      <td>0.368547</td>\n",
       "      <td>1</td>\n",
       "      <td>0</td>\n",
       "      <td>0</td>\n",
       "      <td>0</td>\n",
       "      <td>0</td>\n",
       "      <td>0</td>\n",
       "      <td>0</td>\n",
       "      <td>0</td>\n",
       "      <td>...</td>\n",
       "      <td>0</td>\n",
       "      <td>0</td>\n",
       "      <td>0</td>\n",
       "      <td>0</td>\n",
       "      <td>0</td>\n",
       "      <td>1</td>\n",
       "      <td>0</td>\n",
       "      <td>1</td>\n",
       "      <td>0</td>\n",
       "      <td>0</td>\n",
       "    </tr>\n",
       "  </tbody>\n",
       "</table>\n",
       "<p>5 rows × 37 columns</p>\n",
       "</div>"
      ],
      "text/plain": [
       "            HomeOwnerFlag  YearlyIncome  Education_Bachelors   \\\n",
       "CustomerID                                                      \n",
       "11000                   1      1.505703                     1   \n",
       "11001                   0      0.579234                     1   \n",
       "11002                   1      0.347755                     1   \n",
       "11003                   0      0.215428                     1   \n",
       "11004                   1      0.368547                     1   \n",
       "\n",
       "            Education_Graduate Degree  Education_High School  \\\n",
       "CustomerID                                                     \n",
       "11000                               0                      0   \n",
       "11001                               0                      0   \n",
       "11002                               0                      0   \n",
       "11003                               0                      0   \n",
       "11004                               0                      0   \n",
       "\n",
       "            Education_Partial College  Education_Partial High School  \\\n",
       "CustomerID                                                             \n",
       "11000                               0                              0   \n",
       "11001                               0                              0   \n",
       "11002                               0                              0   \n",
       "11003                               0                              0   \n",
       "11004                               0                              0   \n",
       "\n",
       "            Occupation_Clerical  Occupation_Management  Occupation_Manual  \\\n",
       "CustomerID                                                                  \n",
       "11000                         0                      0                  0   \n",
       "11001                         0                      0                  0   \n",
       "11002                         0                      0                  0   \n",
       "11003                         0                      0                  0   \n",
       "11004                         0                      0                  0   \n",
       "\n",
       "                  ...         TotalChildren_0  TotalChildren_1  \\\n",
       "CustomerID        ...                                            \n",
       "11000             ...                       0                0   \n",
       "11001             ...                       0                0   \n",
       "11002             ...                       0                0   \n",
       "11003             ...                       1                0   \n",
       "11004             ...                       0                0   \n",
       "\n",
       "            TotalChildren_2  TotalChildren_3  TotalChildren_4  \\\n",
       "CustomerID                                                      \n",
       "11000                     1                0                0   \n",
       "11001                     0                1                0   \n",
       "11002                     0                1                0   \n",
       "11003                     0                0                0   \n",
       "11004                     0                0                0   \n",
       "\n",
       "            TotalChildren_5  AgeGroup_Under 25  AgeGroup_25 to 45  \\\n",
       "CustomerID                                                          \n",
       "11000                     0                  0                  1   \n",
       "11001                     0                  0                  1   \n",
       "11002                     0                  0                  1   \n",
       "11003                     0                  0                  1   \n",
       "11004                     1                  0                  1   \n",
       "\n",
       "            AgeGroup_45 to 55  AgeGroup_Over 55  \n",
       "CustomerID                                       \n",
       "11000                       0                 0  \n",
       "11001                       0                 0  \n",
       "11002                       0                 0  \n",
       "11003                       0                 0  \n",
       "11004                       0                 0  \n",
       "\n",
       "[5 rows x 37 columns]"
      ]
     },
     "execution_count": 163,
     "metadata": {},
     "output_type": "execute_result"
    }
   ],
   "source": [
    "# Scale the YearlyIncome column.\n",
    "from sklearn.preprocessing import StandardScaler\n",
    "scaler = StandardScaler()\n",
    "train['YearlyIncome'] = scaler.fit_transform(np.array(train['YearlyIncome']).reshape(-1,1))\n",
    "train.head()"
   ]
  },
  {
   "cell_type": "code",
   "execution_count": 164,
   "metadata": {},
   "outputs": [
    {
     "data": {
      "text/plain": [
       "LogisticRegression(C=1.0, class_weight=None, dual=False, fit_intercept=True,\n",
       "          intercept_scaling=1, max_iter=100, multi_class='ovr', n_jobs=1,\n",
       "          penalty='l2', random_state=None, solver='liblinear', tol=0.0001,\n",
       "          verbose=0, warm_start=False)"
      ]
     },
     "execution_count": 164,
     "metadata": {},
     "output_type": "execute_result"
    }
   ],
   "source": [
    "# Fit a model\n",
    "from sklearn.linear_model import LogisticRegression\n",
    "y = dat['BikeBuyer']\n",
    "model = LogisticRegression()\n",
    "model.fit(train, y)"
   ]
  },
  {
   "cell_type": "code",
   "execution_count": 174,
   "metadata": {},
   "outputs": [
    {
     "name": "stderr",
     "output_type": "stream",
     "text": [
      "/Users/christophermckeag/anaconda3/lib/python3.6/site-packages/sklearn/utils/validation.py:475: DataConversionWarning: Data with input dtype int64 was converted to float64 by StandardScaler.\n",
      "  warnings.warn(msg, DataConversionWarning)\n"
     ]
    }
   ],
   "source": [
    "# We will have to do the same feature engineering and scaling to the test set.\n",
    "test = pd.read_csv('dat/AW_test.csv')\n",
    "testind = test['CustomerID']\n",
    "test.drop(labels = ['Title','MiddleName','Suffix','AddressLine2'], axis = 1, inplace = True)\n",
    "test.drop_duplicates(subset = 'CustomerID', keep = 'last', inplace = True)\n",
    "test['BirthDate'] = pd.to_datetime(test['BirthDate'], yearfirst=True)\n",
    "test['Age'] = test['BirthDate'].apply(lambda x: len(pd.date_range(start = x, end = pd.to_datetime('1998-01-01'), freq = 'Y')) - 1)\n",
    "test['AgeGroup'] = pd.cut(test['Age'], bins = [0,25,45,55, np.inf], labels = ['Under 25','25 to 45','45 to 55','Over 55'])\n",
    "test = test[cols]\n",
    "test = pd.get_dummies(test, columns = ['Education','Occupation','Gender','MaritalStatus','NumberCarsOwned','NumberChildrenAtHome','TotalChildren','AgeGroup'])\n",
    "test['YearlyIncome'] = scaler.transform(np.array(test['YearlyIncome']).reshape(-1,1))\n",
    "# Get predictions\n",
    "pred = model.predict(test)"
   ]
  },
  {
   "cell_type": "code",
   "execution_count": 177,
   "metadata": {},
   "outputs": [],
   "source": [
    "# Output to csv\n",
    "pd.DataFrame(data = pred, index = testind, columns = ['BikeBuyer Prediction']).to_csv('classification_output.csv')"
   ]
  },
  {
   "cell_type": "markdown",
   "metadata": {},
   "source": [
    "This was a pretty brainless way of doing it. I didn't check for overfitting, didn't do any cross validation, didn't attempt to do any feature engineering. I just tried to get the quickest model I could. Still resulted in an accuracy of 0.78, which is good enough for this course."
   ]
  },
  {
   "cell_type": "markdown",
   "metadata": {},
   "source": [
    "## Regression"
   ]
  },
  {
   "cell_type": "markdown",
   "metadata": {},
   "source": [
    "The last challenge is to use linear regression to predict Average Monthly Spending.\n",
    "\n",
    "We are using the same test and train data from the classification problem. That data is all ready to go, so let's go ahead and make another quick prediction."
   ]
  },
  {
   "cell_type": "code",
   "execution_count": 180,
   "metadata": {},
   "outputs": [],
   "source": [
    "from sklearn.linear_model import LinearRegression\n",
    "regmodel = LinearRegression()\n",
    "yspend = dat.AveMonthSpend\n",
    "regmodel.fit(train, yspend)\n",
    "spendpred = regmodel.predict(test)\n",
    "pd.DataFrame(data = spendpred, index = testind, columns = ['AveMonthlySpending Prediction']).to_csv('regression_output.csv')"
   ]
  },
  {
   "cell_type": "markdown",
   "metadata": {},
   "source": [
    "This model gave us an RMSE of 6.24. Not very good, but good enough for the time it took to build I suppose."
   ]
  },
  {
   "cell_type": "code",
   "execution_count": null,
   "metadata": {},
   "outputs": [],
   "source": []
  }
 ],
 "metadata": {
  "kernelspec": {
   "display_name": "Python 3",
   "language": "python",
   "name": "python3"
  },
  "language_info": {
   "codemirror_mode": {
    "name": "ipython",
    "version": 3
   },
   "file_extension": ".py",
   "mimetype": "text/x-python",
   "name": "python",
   "nbconvert_exporter": "python",
   "pygments_lexer": "ipython3",
   "version": "3.6.5"
  }
 },
 "nbformat": 4,
 "nbformat_minor": 2
}
